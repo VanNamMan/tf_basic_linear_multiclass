{
 "cells": [
  {
   "cell_type": "code",
   "execution_count": 228,
   "metadata": {},
   "outputs": [],
   "source": [
    "from keras import backend as K\n",
    "from keras.layers import Activation\n",
    "from keras.layers import Input, Lambda, Dense, Dropout, Convolution2D, MaxPooling2D, Flatten,Conv2D\n",
    "from keras.models import Sequential, Model\n",
    "from keras.optimizers import RMSprop,Adam\n",
    "from keras.regularizers import l2\n",
    "import tensorflow as tf\n",
    "\n"
   ]
  },
  {
   "cell_type": "code",
   "execution_count": 229,
   "metadata": {},
   "outputs": [],
   "source": [
    "import numpy as np\n",
    "import matplotlib.pyplot as plt\n",
    "\n",
    "from sklearn.model_selection import train_test_split\n",
    "from keras.utils import to_categorical\n",
    "\n",
    "import keras.losses\n",
    "import keras.metrics\n"
   ]
  },
  {
   "cell_type": "code",
   "execution_count": 230,
   "metadata": {},
   "outputs": [],
   "source": [
    "# make data \n",
    "n_sample = 1000\n",
    "\n",
    "X = np.random.randn(n_sample)\n",
    "y = 2*X + 5 + np.random.randn(n_sample)"
   ]
  },
  {
   "cell_type": "code",
   "execution_count": 231,
   "metadata": {},
   "outputs": [
    {
     "name": "stdout",
     "output_type": "stream",
     "text": [
      "(750,)\n"
     ]
    }
   ],
   "source": [
    "# make train , test data \n",
    "x_train, x_test, y_train, y_test = train_test_split(X, y, test_size=.25)\n",
    "\n",
    "print(x_train.shape)"
   ]
  },
  {
   "cell_type": "code",
   "execution_count": 232,
   "metadata": {},
   "outputs": [],
   "source": [
    "# build model \n",
    "def build_model():\n",
    "    model = Sequential()\n",
    "    model.add(Dense(1,input_shape=(1,),kernel_regularizer=l2(1e-4)))\n",
    "    return model"
   ]
  },
  {
   "cell_type": "code",
   "execution_count": 233,
   "metadata": {},
   "outputs": [
    {
     "name": "stdout",
     "output_type": "stream",
     "text": [
      "_________________________________________________________________\n",
      "Layer (type)                 Output Shape              Param #   \n",
      "=================================================================\n",
      "dense_9 (Dense)              (None, 1)                 2         \n",
      "=================================================================\n",
      "Total params: 2\n",
      "Trainable params: 2\n",
      "Non-trainable params: 0\n",
      "_________________________________________________________________\n"
     ]
    }
   ],
   "source": [
    "model = build_model()\n",
    "model.summary()"
   ]
  },
  {
   "cell_type": "code",
   "execution_count": 234,
   "metadata": {},
   "outputs": [],
   "source": [
    "rms = RMSprop(0.05)\n",
    "model.compile(loss=keras.losses.mean_squared_error\n",
    "              , optimizer=rms\n",
    "             ,metrics=[keras.metrics.binary_accuracy])"
   ]
  },
  {
   "cell_type": "code",
   "execution_count": 235,
   "metadata": {},
   "outputs": [
    {
     "name": "stdout",
     "output_type": "stream",
     "text": [
      "Train on 562 samples, validate on 188 samples\n",
      "Epoch 1/200\n",
      "562/562 [==============================] - 0s 413us/step - loss: 19.8330 - binary_accuracy: 0.0000e+00 - val_loss: 15.0679 - val_binary_accuracy: 0.0000e+00\n",
      "Epoch 2/200\n",
      "562/562 [==============================] - 0s 23us/step - loss: 12.2300 - binary_accuracy: 0.0000e+00 - val_loss: 9.5662 - val_binary_accuracy: 0.0000e+00\n",
      "Epoch 3/200\n",
      "562/562 [==============================] - 0s 27us/step - loss: 7.4919 - binary_accuracy: 0.0000e+00 - val_loss: 5.6299 - val_binary_accuracy: 0.0000e+00\n",
      "Epoch 4/200\n",
      "562/562 [==============================] - 0s 27us/step - loss: 4.2493 - binary_accuracy: 0.0000e+00 - val_loss: 2.9484 - val_binary_accuracy: 0.0000e+00\n",
      "Epoch 5/200\n",
      "562/562 [==============================] - 0s 27us/step - loss: 2.2315 - binary_accuracy: 0.0000e+00 - val_loss: 1.5097 - val_binary_accuracy: 0.0000e+00\n",
      "Epoch 6/200\n",
      "562/562 [==============================] - 0s 27us/step - loss: 1.2717 - binary_accuracy: 0.0000e+00 - val_loss: 0.9486 - val_binary_accuracy: 0.0000e+00\n",
      "Epoch 7/200\n",
      "562/562 [==============================] - 0s 25us/step - loss: 1.0124 - binary_accuracy: 0.0000e+00 - val_loss: 0.8957 - val_binary_accuracy: 0.0000e+00\n",
      "Epoch 8/200\n",
      "562/562 [==============================] - 0s 27us/step - loss: 0.9990 - binary_accuracy: 0.0000e+00 - val_loss: 0.8645 - val_binary_accuracy: 0.0000e+00\n",
      "Epoch 9/200\n",
      "562/562 [==============================] - 0s 23us/step - loss: 0.9993 - binary_accuracy: 0.0000e+00 - val_loss: 0.8707 - val_binary_accuracy: 0.0000e+00\n",
      "Epoch 10/200\n",
      "562/562 [==============================] - 0s 27us/step - loss: 0.9986 - binary_accuracy: 0.0000e+00 - val_loss: 0.8760 - val_binary_accuracy: 0.0000e+00\n",
      "Epoch 11/200\n",
      "562/562 [==============================] - 0s 23us/step - loss: 0.9991 - binary_accuracy: 0.0000e+00 - val_loss: 0.8675 - val_binary_accuracy: 0.0000e+00\n",
      "Epoch 12/200\n",
      "562/562 [==============================] - 0s 27us/step - loss: 1.0023 - binary_accuracy: 0.0000e+00 - val_loss: 0.8726 - val_binary_accuracy: 0.0000e+00\n",
      "Epoch 13/200\n",
      "562/562 [==============================] - 0s 27us/step - loss: 0.9953 - binary_accuracy: 0.0000e+00 - val_loss: 0.8759 - val_binary_accuracy: 0.0000e+00\n",
      "Epoch 14/200\n",
      "562/562 [==============================] - 0s 28us/step - loss: 1.0067 - binary_accuracy: 0.0000e+00 - val_loss: 0.8608 - val_binary_accuracy: 0.0000e+00\n",
      "Epoch 15/200\n",
      "562/562 [==============================] - 0s 27us/step - loss: 1.0028 - binary_accuracy: 0.0000e+00 - val_loss: 0.8696 - val_binary_accuracy: 0.0000e+00\n",
      "Epoch 16/200\n",
      "562/562 [==============================] - 0s 27us/step - loss: 1.0031 - binary_accuracy: 0.0000e+00 - val_loss: 0.8636 - val_binary_accuracy: 0.0000e+00\n",
      "Epoch 17/200\n",
      "562/562 [==============================] - 0s 28us/step - loss: 1.0065 - binary_accuracy: 0.0000e+00 - val_loss: 0.8680 - val_binary_accuracy: 0.0000e+00\n",
      "Epoch 18/200\n",
      "562/562 [==============================] - 0s 27us/step - loss: 1.0031 - binary_accuracy: 0.0000e+00 - val_loss: 0.8690 - val_binary_accuracy: 0.0000e+00\n",
      "Epoch 19/200\n",
      "562/562 [==============================] - 0s 28us/step - loss: 1.0007 - binary_accuracy: 0.0000e+00 - val_loss: 0.8713 - val_binary_accuracy: 0.0000e+00\n",
      "Epoch 20/200\n",
      "562/562 [==============================] - 0s 30us/step - loss: 1.0043 - binary_accuracy: 0.0000e+00 - val_loss: 0.8902 - val_binary_accuracy: 0.0000e+00\n",
      "Epoch 21/200\n",
      "562/562 [==============================] - 0s 27us/step - loss: 1.0026 - binary_accuracy: 0.0000e+00 - val_loss: 0.8768 - val_binary_accuracy: 0.0000e+00\n",
      "Epoch 22/200\n",
      "562/562 [==============================] - 0s 28us/step - loss: 1.0021 - binary_accuracy: 0.0000e+00 - val_loss: 0.8613 - val_binary_accuracy: 0.0000e+00\n",
      "Epoch 23/200\n",
      "562/562 [==============================] - 0s 27us/step - loss: 1.0033 - binary_accuracy: 0.0000e+00 - val_loss: 0.8649 - val_binary_accuracy: 0.0000e+00\n",
      "Epoch 24/200\n",
      "562/562 [==============================] - 0s 27us/step - loss: 1.0048 - binary_accuracy: 0.0000e+00 - val_loss: 0.8766 - val_binary_accuracy: 0.0000e+00\n",
      "Epoch 25/200\n",
      "562/562 [==============================] - 0s 28us/step - loss: 1.0058 - binary_accuracy: 0.0000e+00 - val_loss: 0.8900 - val_binary_accuracy: 0.0000e+00\n",
      "Epoch 26/200\n",
      "562/562 [==============================] - 0s 27us/step - loss: 0.9986 - binary_accuracy: 0.0000e+00 - val_loss: 0.8887 - val_binary_accuracy: 0.0000e+00\n",
      "Epoch 27/200\n",
      "562/562 [==============================] - 0s 28us/step - loss: 0.9984 - binary_accuracy: 0.0000e+00 - val_loss: 0.8725 - val_binary_accuracy: 0.0000e+00\n",
      "Epoch 28/200\n",
      "562/562 [==============================] - 0s 27us/step - loss: 1.0058 - binary_accuracy: 0.0000e+00 - val_loss: 0.8652 - val_binary_accuracy: 0.0000e+00\n",
      "Epoch 29/200\n",
      "562/562 [==============================] - 0s 28us/step - loss: 1.0071 - binary_accuracy: 0.0000e+00 - val_loss: 0.8751 - val_binary_accuracy: 0.0000e+00\n",
      "Epoch 30/200\n",
      "562/562 [==============================] - 0s 27us/step - loss: 1.0083 - binary_accuracy: 0.0000e+00 - val_loss: 0.8824 - val_binary_accuracy: 0.0000e+00\n",
      "Epoch 31/200\n",
      "562/562 [==============================] - 0s 28us/step - loss: 1.0016 - binary_accuracy: 0.0000e+00 - val_loss: 0.8920 - val_binary_accuracy: 0.0000e+00\n",
      "Epoch 32/200\n",
      "562/562 [==============================] - 0s 28us/step - loss: 1.0068 - binary_accuracy: 0.0000e+00 - val_loss: 0.8690 - val_binary_accuracy: 0.0000e+00\n",
      "Epoch 33/200\n",
      "562/562 [==============================] - 0s 27us/step - loss: 0.9989 - binary_accuracy: 0.0000e+00 - val_loss: 0.8910 - val_binary_accuracy: 0.0000e+00\n",
      "Epoch 34/200\n",
      "562/562 [==============================] - 0s 27us/step - loss: 1.0048 - binary_accuracy: 0.0000e+00 - val_loss: 0.8749 - val_binary_accuracy: 0.0000e+00\n",
      "Epoch 35/200\n",
      "562/562 [==============================] - 0s 28us/step - loss: 1.0054 - binary_accuracy: 0.0000e+00 - val_loss: 0.8698 - val_binary_accuracy: 0.0000e+00\n",
      "Epoch 36/200\n",
      "562/562 [==============================] - 0s 27us/step - loss: 0.9996 - binary_accuracy: 0.0000e+00 - val_loss: 0.8745 - val_binary_accuracy: 0.0000e+00\n",
      "Epoch 37/200\n",
      "562/562 [==============================] - 0s 23us/step - loss: 0.9988 - binary_accuracy: 0.0000e+00 - val_loss: 0.9043 - val_binary_accuracy: 0.0000e+00\n",
      "Epoch 38/200\n",
      "562/562 [==============================] - 0s 25us/step - loss: 1.0023 - binary_accuracy: 0.0000e+00 - val_loss: 0.8776 - val_binary_accuracy: 0.0000e+00\n",
      "Epoch 39/200\n",
      "562/562 [==============================] - 0s 23us/step - loss: 0.9985 - binary_accuracy: 0.0000e+00 - val_loss: 0.8661 - val_binary_accuracy: 0.0000e+00\n",
      "Epoch 40/200\n",
      "562/562 [==============================] - 0s 21us/step - loss: 1.0034 - binary_accuracy: 0.0000e+00 - val_loss: 0.8719 - val_binary_accuracy: 0.0000e+00\n",
      "Epoch 41/200\n",
      "562/562 [==============================] - 0s 21us/step - loss: 1.0073 - binary_accuracy: 0.0000e+00 - val_loss: 0.8619 - val_binary_accuracy: 0.0000e+00\n",
      "Epoch 42/200\n",
      "562/562 [==============================] - 0s 23us/step - loss: 0.9983 - binary_accuracy: 0.0000e+00 - val_loss: 0.8759 - val_binary_accuracy: 0.0000e+00\n",
      "Epoch 43/200\n",
      "562/562 [==============================] - ETA: 0s - loss: 0.6391 - binary_accuracy: 0.0000e+0 - 0s 21us/step - loss: 1.0073 - binary_accuracy: 0.0000e+00 - val_loss: 0.8727 - val_binary_accuracy: 0.0000e+00\n",
      "Epoch 44/200\n",
      "562/562 [==============================] - 0s 21us/step - loss: 0.9947 - binary_accuracy: 0.0000e+00 - val_loss: 0.9092 - val_binary_accuracy: 0.0000e+00\n",
      "Epoch 45/200\n",
      "562/562 [==============================] - 0s 21us/step - loss: 0.9977 - binary_accuracy: 0.0000e+00 - val_loss: 0.8826 - val_binary_accuracy: 0.0000e+00\n",
      "Epoch 46/200\n",
      "562/562 [==============================] - 0s 21us/step - loss: 1.0083 - binary_accuracy: 0.0000e+00 - val_loss: 0.8757 - val_binary_accuracy: 0.0000e+00\n",
      "Epoch 47/200\n",
      "562/562 [==============================] - 0s 21us/step - loss: 0.9960 - binary_accuracy: 0.0000e+00 - val_loss: 0.8635 - val_binary_accuracy: 0.0000e+00\n",
      "Epoch 48/200\n",
      "562/562 [==============================] - 0s 21us/step - loss: 1.0056 - binary_accuracy: 0.0000e+00 - val_loss: 0.8615 - val_binary_accuracy: 0.0000e+00\n",
      "Epoch 49/200\n"
     ]
    },
    {
     "name": "stdout",
     "output_type": "stream",
     "text": [
      "562/562 [==============================] - 0s 23us/step - loss: 1.0058 - binary_accuracy: 0.0000e+00 - val_loss: 0.8855 - val_binary_accuracy: 0.0000e+00\n",
      "Epoch 50/200\n",
      "562/562 [==============================] - 0s 23us/step - loss: 0.9988 - binary_accuracy: 0.0000e+00 - val_loss: 0.8752 - val_binary_accuracy: 0.0000e+00\n",
      "Epoch 51/200\n",
      "562/562 [==============================] - 0s 23us/step - loss: 0.9997 - binary_accuracy: 0.0000e+00 - val_loss: 0.8679 - val_binary_accuracy: 0.0000e+00\n",
      "Epoch 52/200\n",
      "562/562 [==============================] - 0s 23us/step - loss: 1.0002 - binary_accuracy: 0.0000e+00 - val_loss: 0.8815 - val_binary_accuracy: 0.0000e+00\n",
      "Epoch 53/200\n",
      "562/562 [==============================] - 0s 21us/step - loss: 1.0036 - binary_accuracy: 0.0000e+00 - val_loss: 0.8616 - val_binary_accuracy: 0.0000e+00\n",
      "Epoch 54/200\n",
      "562/562 [==============================] - 0s 21us/step - loss: 0.9956 - binary_accuracy: 0.0000e+00 - val_loss: 0.9200 - val_binary_accuracy: 0.0000e+00\n",
      "Epoch 55/200\n",
      "562/562 [==============================] - 0s 21us/step - loss: 1.0091 - binary_accuracy: 0.0000e+00 - val_loss: 0.8726 - val_binary_accuracy: 0.0000e+00\n",
      "Epoch 56/200\n",
      "562/562 [==============================] - 0s 23us/step - loss: 1.0086 - binary_accuracy: 0.0000e+00 - val_loss: 0.8740 - val_binary_accuracy: 0.0000e+00\n",
      "Epoch 57/200\n",
      "562/562 [==============================] - 0s 23us/step - loss: 1.0006 - binary_accuracy: 0.0000e+00 - val_loss: 0.8631 - val_binary_accuracy: 0.0000e+00\n",
      "Epoch 58/200\n",
      "562/562 [==============================] - 0s 21us/step - loss: 1.0005 - binary_accuracy: 0.0000e+00 - val_loss: 0.8608 - val_binary_accuracy: 0.0000e+00\n",
      "Epoch 59/200\n",
      "562/562 [==============================] - 0s 21us/step - loss: 1.0008 - binary_accuracy: 0.0000e+00 - val_loss: 0.8746 - val_binary_accuracy: 0.0000e+00\n",
      "Epoch 60/200\n",
      "562/562 [==============================] - 0s 21us/step - loss: 1.0046 - binary_accuracy: 0.0000e+00 - val_loss: 0.8607 - val_binary_accuracy: 0.0000e+00\n",
      "Epoch 61/200\n",
      "562/562 [==============================] - 0s 21us/step - loss: 1.0033 - binary_accuracy: 0.0000e+00 - val_loss: 0.8799 - val_binary_accuracy: 0.0000e+00\n",
      "Epoch 62/200\n",
      "562/562 [==============================] - 0s 23us/step - loss: 1.0027 - binary_accuracy: 0.0000e+00 - val_loss: 0.8796 - val_binary_accuracy: 0.0000e+00\n",
      "Epoch 63/200\n",
      "562/562 [==============================] - 0s 21us/step - loss: 1.0026 - binary_accuracy: 0.0000e+00 - val_loss: 0.8779 - val_binary_accuracy: 0.0000e+00\n",
      "Epoch 64/200\n",
      "562/562 [==============================] - 0s 21us/step - loss: 1.0026 - binary_accuracy: 0.0000e+00 - val_loss: 0.8928 - val_binary_accuracy: 0.0000e+00\n",
      "Epoch 65/200\n",
      "562/562 [==============================] - 0s 25us/step - loss: 0.9958 - binary_accuracy: 0.0000e+00 - val_loss: 0.8995 - val_binary_accuracy: 0.0000e+00\n",
      "Epoch 66/200\n",
      "562/562 [==============================] - 0s 25us/step - loss: 1.0025 - binary_accuracy: 0.0000e+00 - val_loss: 0.8614 - val_binary_accuracy: 0.0000e+00\n",
      "Epoch 67/200\n",
      "562/562 [==============================] - 0s 27us/step - loss: 1.0048 - binary_accuracy: 0.0000e+00 - val_loss: 0.8692 - val_binary_accuracy: 0.0000e+00\n",
      "Epoch 68/200\n",
      "562/562 [==============================] - ETA: 0s - loss: 0.8917 - binary_accuracy: 0.0000e+0 - 0s 28us/step - loss: 0.9974 - binary_accuracy: 0.0000e+00 - val_loss: 0.8817 - val_binary_accuracy: 0.0000e+00\n",
      "Epoch 69/200\n",
      "562/562 [==============================] - 0s 28us/step - loss: 1.0092 - binary_accuracy: 0.0000e+00 - val_loss: 0.8683 - val_binary_accuracy: 0.0000e+00\n",
      "Epoch 70/200\n",
      "562/562 [==============================] - 0s 27us/step - loss: 0.9978 - binary_accuracy: 0.0000e+00 - val_loss: 0.8666 - val_binary_accuracy: 0.0000e+00\n",
      "Epoch 71/200\n",
      "562/562 [==============================] - 0s 30us/step - loss: 1.0024 - binary_accuracy: 0.0000e+00 - val_loss: 0.8676 - val_binary_accuracy: 0.0000e+00\n",
      "Epoch 72/200\n",
      "562/562 [==============================] - 0s 30us/step - loss: 1.0016 - binary_accuracy: 0.0000e+00 - val_loss: 0.9025 - val_binary_accuracy: 0.0000e+00\n",
      "Epoch 73/200\n",
      "562/562 [==============================] - 0s 28us/step - loss: 1.0005 - binary_accuracy: 0.0000e+00 - val_loss: 0.8958 - val_binary_accuracy: 0.0000e+00\n",
      "Epoch 74/200\n",
      "562/562 [==============================] - 0s 28us/step - loss: 0.9955 - binary_accuracy: 0.0000e+00 - val_loss: 0.8947 - val_binary_accuracy: 0.0000e+00\n",
      "Epoch 75/200\n",
      "562/562 [==============================] - 0s 30us/step - loss: 1.0027 - binary_accuracy: 0.0000e+00 - val_loss: 0.8782 - val_binary_accuracy: 0.0000e+00\n",
      "Epoch 76/200\n",
      "562/562 [==============================] - 0s 32us/step - loss: 1.0030 - binary_accuracy: 0.0000e+00 - val_loss: 0.8773 - val_binary_accuracy: 0.0000e+00\n",
      "Epoch 77/200\n",
      "562/562 [==============================] - 0s 32us/step - loss: 1.0024 - binary_accuracy: 0.0000e+00 - val_loss: 0.8758 - val_binary_accuracy: 0.0000e+00\n",
      "Epoch 78/200\n",
      "562/562 [==============================] - 0s 30us/step - loss: 0.9976 - binary_accuracy: 0.0000e+00 - val_loss: 0.9027 - val_binary_accuracy: 0.0000e+00\n",
      "Epoch 79/200\n",
      "562/562 [==============================] - 0s 32us/step - loss: 1.0058 - binary_accuracy: 0.0000e+00 - val_loss: 0.8636 - val_binary_accuracy: 0.0000e+00\n",
      "Epoch 80/200\n",
      "562/562 [==============================] - 0s 32us/step - loss: 1.0031 - binary_accuracy: 0.0000e+00 - val_loss: 0.8610 - val_binary_accuracy: 0.0000e+00\n",
      "Epoch 81/200\n",
      "562/562 [==============================] - 0s 23us/step - loss: 0.9972 - binary_accuracy: 0.0000e+00 - val_loss: 0.9101 - val_binary_accuracy: 0.0000e+00\n",
      "Epoch 82/200\n",
      "562/562 [==============================] - 0s 23us/step - loss: 1.0054 - binary_accuracy: 0.0000e+00 - val_loss: 0.8687 - val_binary_accuracy: 0.0000e+00\n",
      "Epoch 83/200\n",
      "562/562 [==============================] - 0s 27us/step - loss: 1.0031 - binary_accuracy: 0.0000e+00 - val_loss: 0.8863 - val_binary_accuracy: 0.0000e+00\n",
      "Epoch 84/200\n",
      "562/562 [==============================] - 0s 25us/step - loss: 1.0046 - binary_accuracy: 0.0000e+00 - val_loss: 0.8805 - val_binary_accuracy: 0.0000e+00\n",
      "Epoch 85/200\n",
      "562/562 [==============================] - 0s 23us/step - loss: 1.0090 - binary_accuracy: 0.0000e+00 - val_loss: 0.8647 - val_binary_accuracy: 0.0000e+00\n",
      "Epoch 86/200\n",
      "562/562 [==============================] - 0s 21us/step - loss: 0.9995 - binary_accuracy: 0.0000e+00 - val_loss: 0.8730 - val_binary_accuracy: 0.0000e+00\n",
      "Epoch 87/200\n",
      "562/562 [==============================] - 0s 23us/step - loss: 0.9964 - binary_accuracy: 0.0000e+00 - val_loss: 0.8621 - val_binary_accuracy: 0.0000e+00\n",
      "Epoch 88/200\n",
      "562/562 [==============================] - 0s 23us/step - loss: 0.9997 - binary_accuracy: 0.0000e+00 - val_loss: 0.8732 - val_binary_accuracy: 0.0000e+00\n",
      "Epoch 89/200\n",
      "562/562 [==============================] - 0s 23us/step - loss: 0.9971 - binary_accuracy: 0.0000e+00 - val_loss: 0.8898 - val_binary_accuracy: 0.0000e+00\n",
      "Epoch 90/200\n",
      "562/562 [==============================] - 0s 23us/step - loss: 0.9992 - binary_accuracy: 0.0000e+00 - val_loss: 0.8768 - val_binary_accuracy: 0.0000e+00\n",
      "Epoch 91/200\n",
      "562/562 [==============================] - 0s 21us/step - loss: 0.9974 - binary_accuracy: 0.0000e+00 - val_loss: 0.8613 - val_binary_accuracy: 0.0000e+00\n",
      "Epoch 92/200\n",
      "562/562 [==============================] - 0s 21us/step - loss: 1.0088 - binary_accuracy: 0.0000e+00 - val_loss: 0.8681 - val_binary_accuracy: 0.0000e+00\n",
      "Epoch 93/200\n",
      "562/562 [==============================] - 0s 23us/step - loss: 1.0070 - binary_accuracy: 0.0000e+00 - val_loss: 0.8723 - val_binary_accuracy: 0.0000e+00\n",
      "Epoch 94/200\n",
      "562/562 [==============================] - 0s 23us/step - loss: 1.0028 - binary_accuracy: 0.0000e+00 - val_loss: 0.8787 - val_binary_accuracy: 0.0000e+00\n",
      "Epoch 95/200\n",
      "562/562 [==============================] - 0s 23us/step - loss: 1.0014 - binary_accuracy: 0.0000e+00 - val_loss: 0.8690 - val_binary_accuracy: 0.0000e+00\n",
      "Epoch 96/200\n",
      "562/562 [==============================] - 0s 27us/step - loss: 1.0034 - binary_accuracy: 0.0000e+00 - val_loss: 0.8678 - val_binary_accuracy: 0.0000e+00\n",
      "Epoch 97/200\n",
      "562/562 [==============================] - 0s 23us/step - loss: 0.9969 - binary_accuracy: 0.0000e+00 - val_loss: 0.8724 - val_binary_accuracy: 0.0000e+00\n"
     ]
    },
    {
     "name": "stdout",
     "output_type": "stream",
     "text": [
      "Epoch 98/200\n",
      "562/562 [==============================] - 0s 23us/step - loss: 1.0014 - binary_accuracy: 0.0000e+00 - val_loss: 0.8817 - val_binary_accuracy: 0.0000e+00\n",
      "Epoch 99/200\n",
      "562/562 [==============================] - 0s 27us/step - loss: 1.0025 - binary_accuracy: 0.0000e+00 - val_loss: 0.8696 - val_binary_accuracy: 0.0000e+00\n",
      "Epoch 100/200\n",
      "562/562 [==============================] - 0s 23us/step - loss: 1.0036 - binary_accuracy: 0.0000e+00 - val_loss: 0.8676 - val_binary_accuracy: 0.0000e+00\n",
      "Epoch 101/200\n",
      "562/562 [==============================] - 0s 21us/step - loss: 0.9918 - binary_accuracy: 0.0000e+00 - val_loss: 0.8914 - val_binary_accuracy: 0.0000e+00\n",
      "Epoch 102/200\n",
      "562/562 [==============================] - 0s 23us/step - loss: 1.0083 - binary_accuracy: 0.0000e+00 - val_loss: 0.8634 - val_binary_accuracy: 0.0000e+00\n",
      "Epoch 103/200\n",
      "562/562 [==============================] - 0s 23us/step - loss: 1.0044 - binary_accuracy: 0.0000e+00 - val_loss: 0.8660 - val_binary_accuracy: 0.0000e+00\n",
      "Epoch 104/200\n",
      "562/562 [==============================] - 0s 23us/step - loss: 1.0048 - binary_accuracy: 0.0000e+00 - val_loss: 0.8605 - val_binary_accuracy: 0.0000e+00\n",
      "Epoch 105/200\n",
      "562/562 [==============================] - 0s 21us/step - loss: 1.0019 - binary_accuracy: 0.0000e+00 - val_loss: 0.8652 - val_binary_accuracy: 0.0000e+00\n",
      "Epoch 106/200\n",
      "562/562 [==============================] - 0s 23us/step - loss: 1.0024 - binary_accuracy: 0.0000e+00 - val_loss: 0.8710 - val_binary_accuracy: 0.0000e+00\n",
      "Epoch 107/200\n",
      "562/562 [==============================] - 0s 21us/step - loss: 1.0001 - binary_accuracy: 0.0000e+00 - val_loss: 0.8762 - val_binary_accuracy: 0.0000e+00\n",
      "Epoch 108/200\n",
      "562/562 [==============================] - 0s 23us/step - loss: 0.9999 - binary_accuracy: 0.0000e+00 - val_loss: 0.8612 - val_binary_accuracy: 0.0000e+00\n",
      "Epoch 109/200\n",
      "562/562 [==============================] - 0s 23us/step - loss: 1.0072 - binary_accuracy: 0.0000e+00 - val_loss: 0.8656 - val_binary_accuracy: 0.0000e+00\n",
      "Epoch 110/200\n",
      "562/562 [==============================] - 0s 23us/step - loss: 1.0015 - binary_accuracy: 0.0000e+00 - val_loss: 0.8613 - val_binary_accuracy: 0.0000e+00\n",
      "Epoch 111/200\n",
      "562/562 [==============================] - 0s 21us/step - loss: 1.0061 - binary_accuracy: 0.0000e+00 - val_loss: 0.8693 - val_binary_accuracy: 0.0000e+00\n",
      "Epoch 112/200\n",
      "562/562 [==============================] - 0s 21us/step - loss: 1.0065 - binary_accuracy: 0.0000e+00 - val_loss: 0.8699 - val_binary_accuracy: 0.0000e+00\n",
      "Epoch 113/200\n",
      "562/562 [==============================] - 0s 23us/step - loss: 1.0059 - binary_accuracy: 0.0000e+00 - val_loss: 0.8724 - val_binary_accuracy: 0.0000e+00\n",
      "Epoch 114/200\n",
      "562/562 [==============================] - 0s 23us/step - loss: 0.9984 - binary_accuracy: 0.0000e+00 - val_loss: 0.8713 - val_binary_accuracy: 0.0000e+00\n",
      "Epoch 115/200\n",
      "562/562 [==============================] - 0s 23us/step - loss: 1.0049 - binary_accuracy: 0.0000e+00 - val_loss: 0.8736 - val_binary_accuracy: 0.0000e+00\n",
      "Epoch 116/200\n",
      "562/562 [==============================] - 0s 21us/step - loss: 1.0005 - binary_accuracy: 0.0000e+00 - val_loss: 0.8679 - val_binary_accuracy: 0.0000e+00\n",
      "Epoch 117/200\n",
      "562/562 [==============================] - 0s 21us/step - loss: 1.0043 - binary_accuracy: 0.0000e+00 - val_loss: 0.8613 - val_binary_accuracy: 0.0000e+00\n",
      "Epoch 118/200\n",
      "562/562 [==============================] - 0s 23us/step - loss: 0.9958 - binary_accuracy: 0.0000e+00 - val_loss: 0.8714 - val_binary_accuracy: 0.0000e+00\n",
      "Epoch 119/200\n",
      "562/562 [==============================] - 0s 23us/step - loss: 1.0007 - binary_accuracy: 0.0000e+00 - val_loss: 0.8722 - val_binary_accuracy: 0.0000e+00\n",
      "Epoch 120/200\n",
      "562/562 [==============================] - 0s 23us/step - loss: 1.0034 - binary_accuracy: 0.0000e+00 - val_loss: 0.8801 - val_binary_accuracy: 0.0000e+00\n",
      "Epoch 121/200\n",
      "562/562 [==============================] - 0s 21us/step - loss: 1.0001 - binary_accuracy: 0.0000e+00 - val_loss: 0.8784 - val_binary_accuracy: 0.0000e+00\n",
      "Epoch 122/200\n",
      "562/562 [==============================] - 0s 23us/step - loss: 1.0034 - binary_accuracy: 0.0000e+00 - val_loss: 0.8790 - val_binary_accuracy: 0.0000e+00\n",
      "Epoch 123/200\n",
      "562/562 [==============================] - 0s 23us/step - loss: 1.0016 - binary_accuracy: 0.0000e+00 - val_loss: 0.8935 - val_binary_accuracy: 0.0000e+00\n",
      "Epoch 124/200\n",
      "562/562 [==============================] - 0s 23us/step - loss: 1.0049 - binary_accuracy: 0.0000e+00 - val_loss: 0.8786 - val_binary_accuracy: 0.0000e+00\n",
      "Epoch 125/200\n",
      "562/562 [==============================] - 0s 21us/step - loss: 0.9982 - binary_accuracy: 0.0000e+00 - val_loss: 0.8795 - val_binary_accuracy: 0.0000e+00\n",
      "Epoch 126/200\n",
      "562/562 [==============================] - 0s 23us/step - loss: 1.0124 - binary_accuracy: 0.0000e+00 - val_loss: 0.8666 - val_binary_accuracy: 0.0000e+00\n",
      "Epoch 127/200\n",
      "562/562 [==============================] - 0s 21us/step - loss: 1.0010 - binary_accuracy: 0.0000e+00 - val_loss: 0.8653 - val_binary_accuracy: 0.0000e+00\n",
      "Epoch 128/200\n",
      "562/562 [==============================] - 0s 23us/step - loss: 1.0008 - binary_accuracy: 0.0000e+00 - val_loss: 0.8641 - val_binary_accuracy: 0.0000e+00\n",
      "Epoch 129/200\n",
      "562/562 [==============================] - 0s 21us/step - loss: 0.9982 - binary_accuracy: 0.0000e+00 - val_loss: 0.8797 - val_binary_accuracy: 0.0000e+00\n",
      "Epoch 130/200\n",
      "562/562 [==============================] - 0s 21us/step - loss: 1.0062 - binary_accuracy: 0.0000e+00 - val_loss: 0.8618 - val_binary_accuracy: 0.0000e+00\n",
      "Epoch 131/200\n",
      "562/562 [==============================] - 0s 25us/step - loss: 1.0067 - binary_accuracy: 0.0000e+00 - val_loss: 0.8741 - val_binary_accuracy: 0.0000e+00\n",
      "Epoch 132/200\n",
      "562/562 [==============================] - 0s 25us/step - loss: 0.9944 - binary_accuracy: 0.0000e+00 - val_loss: 0.8677 - val_binary_accuracy: 0.0000e+00\n",
      "Epoch 133/200\n",
      "562/562 [==============================] - 0s 23us/step - loss: 1.0071 - binary_accuracy: 0.0000e+00 - val_loss: 0.8719 - val_binary_accuracy: 0.0000e+00\n",
      "Epoch 134/200\n",
      "562/562 [==============================] - 0s 23us/step - loss: 1.0050 - binary_accuracy: 0.0000e+00 - val_loss: 0.8845 - val_binary_accuracy: 0.0000e+00\n",
      "Epoch 135/200\n",
      "562/562 [==============================] - 0s 23us/step - loss: 0.9966 - binary_accuracy: 0.0000e+00 - val_loss: 0.8655 - val_binary_accuracy: 0.0000e+00\n",
      "Epoch 136/200\n",
      "562/562 [==============================] - 0s 23us/step - loss: 0.9999 - binary_accuracy: 0.0000e+00 - val_loss: 0.8732 - val_binary_accuracy: 0.0000e+00\n",
      "Epoch 137/200\n",
      "562/562 [==============================] - 0s 21us/step - loss: 1.0008 - binary_accuracy: 0.0000e+00 - val_loss: 0.8880 - val_binary_accuracy: 0.0000e+00\n",
      "Epoch 138/200\n",
      "562/562 [==============================] - 0s 25us/step - loss: 0.9989 - binary_accuracy: 0.0000e+00 - val_loss: 0.8744 - val_binary_accuracy: 0.0000e+00\n",
      "Epoch 139/200\n",
      "562/562 [==============================] - 0s 23us/step - loss: 1.0055 - binary_accuracy: 0.0000e+00 - val_loss: 0.8732 - val_binary_accuracy: 0.0000e+00\n",
      "Epoch 140/200\n",
      "562/562 [==============================] - 0s 23us/step - loss: 0.9973 - binary_accuracy: 0.0000e+00 - val_loss: 0.8777 - val_binary_accuracy: 0.0000e+00\n",
      "Epoch 141/200\n",
      "562/562 [==============================] - 0s 23us/step - loss: 1.0033 - binary_accuracy: 0.0000e+00 - val_loss: 0.8624 - val_binary_accuracy: 0.0000e+00\n",
      "Epoch 142/200\n",
      "562/562 [==============================] - 0s 21us/step - loss: 1.0002 - binary_accuracy: 0.0000e+00 - val_loss: 0.8638 - val_binary_accuracy: 0.0000e+00\n",
      "Epoch 143/200\n",
      "562/562 [==============================] - 0s 23us/step - loss: 1.0055 - binary_accuracy: 0.0000e+00 - val_loss: 0.8733 - val_binary_accuracy: 0.0000e+00\n",
      "Epoch 144/200\n",
      "562/562 [==============================] - 0s 23us/step - loss: 1.0009 - binary_accuracy: 0.0000e+00 - val_loss: 0.8751 - val_binary_accuracy: 0.0000e+00\n",
      "Epoch 145/200\n",
      "562/562 [==============================] - 0s 23us/step - loss: 1.0042 - binary_accuracy: 0.0000e+00 - val_loss: 0.8622 - val_binary_accuracy: 0.0000e+00\n",
      "Epoch 146/200\n",
      "562/562 [==============================] - 0s 21us/step - loss: 1.0015 - binary_accuracy: 0.0000e+00 - val_loss: 0.8609 - val_binary_accuracy: 0.0000e+00\n"
     ]
    },
    {
     "name": "stdout",
     "output_type": "stream",
     "text": [
      "Epoch 147/200\n",
      "562/562 [==============================] - 0s 21us/step - loss: 0.9950 - binary_accuracy: 0.0000e+00 - val_loss: 0.9051 - val_binary_accuracy: 0.0000e+00\n",
      "Epoch 148/200\n",
      "562/562 [==============================] - 0s 23us/step - loss: 1.0013 - binary_accuracy: 0.0000e+00 - val_loss: 0.8856 - val_binary_accuracy: 0.0000e+00\n",
      "Epoch 149/200\n",
      "562/562 [==============================] - 0s 25us/step - loss: 1.0037 - binary_accuracy: 0.0000e+00 - val_loss: 0.8690 - val_binary_accuracy: 0.0000e+00\n",
      "Epoch 150/200\n",
      "562/562 [==============================] - 0s 21us/step - loss: 1.0028 - binary_accuracy: 0.0000e+00 - val_loss: 0.8716 - val_binary_accuracy: 0.0000e+00\n",
      "Epoch 151/200\n",
      "562/562 [==============================] - 0s 21us/step - loss: 0.9944 - binary_accuracy: 0.0000e+00 - val_loss: 0.8898 - val_binary_accuracy: 0.0000e+00\n",
      "Epoch 152/200\n",
      "562/562 [==============================] - 0s 23us/step - loss: 1.0083 - binary_accuracy: 0.0000e+00 - val_loss: 0.8745 - val_binary_accuracy: 0.0000e+00\n",
      "Epoch 153/200\n",
      "562/562 [==============================] - 0s 23us/step - loss: 1.0000 - binary_accuracy: 0.0000e+00 - val_loss: 0.8922 - val_binary_accuracy: 0.0000e+00\n",
      "Epoch 154/200\n",
      "562/562 [==============================] - 0s 23us/step - loss: 0.9943 - binary_accuracy: 0.0000e+00 - val_loss: 0.8689 - val_binary_accuracy: 0.0000e+00\n"
     ]
    }
   ],
   "source": [
    "his = model.fit(x_train,y_train,epochs=200,validation_split=0.25,batch_size=32\n",
    "               ,callbacks=[tf.keras.callbacks.EarlyStopping(monitor='val_loss',patience=50)])"
   ]
  },
  {
   "cell_type": "code",
   "execution_count": 240,
   "metadata": {},
   "outputs": [],
   "source": [
    "import numpy as np\n",
    "from matplotlib import pyplot as plt\n",
    "from matplotlib import animation\n",
    "\n",
    "def plot_loss(his,save_to_file):\n",
    "\n",
    "    loss  = np.array(his.history[\"loss\"])\n",
    "    val_loss = np.array(his.history[\"val_loss\"])\n",
    "    n  = len(loss)\n",
    "\n",
    "    # data = np.zeros(2*n)\n",
    "    # data[::2] = loss\n",
    "    # data[1::2] = val_loss\n",
    "\n",
    "    idx = np.arange(n)\n",
    "    # iters = np.zeros(2*n)\n",
    "    # iters[::2] = idx\n",
    "    # iters[1::2] = idx\n",
    "\n",
    "    fig = plt.figure()\n",
    "    ax = plt.axes(xlim=(0,n), ylim=(loss.min()-0.01,loss.max()+0.01))   \n",
    "    # line1, = ax.plot([], [],\"r-\", lw=2)\n",
    "    # line2, = ax.plot([], [],\"b-\", lw=2)\n",
    "    color = [\"r\",\"b\"]\n",
    "    label = [\"loss\",\"val_loss\"]\n",
    "    lines = [ax.plot([], [],color[i], lw=2)[0] for i in range(2)]\n",
    "\n",
    "    # initialization function: plot the background of each frame\n",
    "    def init():\n",
    "        lines[0].set_data([], [])\n",
    "        lines[1].set_data([], [])\n",
    "        return lines\n",
    "\n",
    "    # animation function.  This is called sequentially\n",
    "    def animate(i):\n",
    "        x = idx[:i]\n",
    "        y = loss[:i]\n",
    "        lines[0].set_data(x, y)\n",
    "        x = idx[:i]\n",
    "        y = val_loss[:i]\n",
    "        lines[1].set_data(x, y)\n",
    "        return lines\n",
    "\n",
    "    # call the animator.  blit=True means only re-draw the parts that have changed.\n",
    "    anim = animation.FuncAnimation(fig, animate, init_func=init,\n",
    "                                   frames=100, interval=20, blit=True)\n",
    "    \n",
    "    ax.set_xlabel(\"iters\")\n",
    "    ax.set_ylabel(\"loss\")\n",
    "#     plt.legend()\n",
    "    anim.save(save_to_file, fps=15, extra_args=['-vcodec', 'libx264'])\n",
    "    plt.show()"
   ]
  },
  {
   "cell_type": "code",
   "execution_count": 241,
   "metadata": {},
   "outputs": [
    {
     "data": {
      "image/png": "[encoded data removed]",
      "text/plain": [
       "<Figure size 432x288 with 1 Axes>"
      ]
     },
     "metadata": {
      "needs_background": "light"
     },
     "output_type": "display_data"
    }
   ],
   "source": [
    "plot_loss(his,\"training_loss_linear.mp4\")"
   ]
  },
  {
   "cell_type": "code",
   "execution_count": 111,
   "metadata": {},
   "outputs": [
    {
     "name": "stdout",
     "output_type": "stream",
     "text": [
      "\r",
      "5/5 [==============================] - 0s 200us/step\n"
     ]
    },
    {
     "data": {
      "text/plain": [
       "[1.5006564855575562, 0.0]"
      ]
     },
     "execution_count": 111,
     "metadata": {},
     "output_type": "execute_result"
    }
   ],
   "source": [
    "model.evaluate(x_test[:5],y_test[:5])"
   ]
  },
  {
   "cell_type": "code",
   "execution_count": 112,
   "metadata": {},
   "outputs": [
    {
     "data": {
      "text/plain": [
       "[array([[1.9884559]], dtype=float32), array([4.924535], dtype=float32)]"
      ]
     },
     "execution_count": 112,
     "metadata": {},
     "output_type": "execute_result"
    }
   ],
   "source": [
    "model.get_weights()"
   ]
  },
  {
   "cell_type": "code",
   "execution_count": 124,
   "metadata": {},
   "outputs": [
    {
     "data": {
      "text/plain": [
       "[<matplotlib.lines.Line2D at 0x37d66f28>]"
      ]
     },
     "execution_count": 124,
     "metadata": {},
     "output_type": "execute_result"
    },
    {
     "data": {
      "image/png": "[encoded data removed]",
      "text/plain": [
       "<Figure size 432x288 with 1 Axes>"
      ]
     },
     "metadata": {
      "needs_background": "light"
     },
     "output_type": "display_data"
    }
   ],
   "source": [
    "# plot HyperLane\n",
    "ax = plt.gca()\n",
    "\n",
    "xlim = [X.min(),X.max()]\n",
    "xx = np.linspace(xlim[0], xlim[1], 30)\n",
    "yy = model.predict(xx)\n",
    "\n",
    "ax.scatter(X,y)\n",
    "ax.plot(xx,yy,\"r-\",lw=4)"
   ]
  },
  {
   "cell_type": "code",
   "execution_count": null,
   "metadata": {},
   "outputs": [],
   "source": []
  }
 ],
 "metadata": {
  "kernelspec": {
   "display_name": "Python 3",
   "language": "python",
   "name": "python3"
  },
  "language_info": {
   "codemirror_mode": {
    "name": "ipython",
    "version": 3
   },
   "file_extension": ".py",
   "mimetype": "text/x-python",
   "name": "python",
   "nbconvert_exporter": "python",
   "pygments_lexer": "ipython3",
   "version": "3.6.4"
  }
 },
 "nbformat": 4,
 "nbformat_minor": 2
}
