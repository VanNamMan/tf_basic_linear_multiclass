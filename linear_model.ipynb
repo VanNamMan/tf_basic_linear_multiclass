{
 "cells": [
  {
   "cell_type": "code",
   "execution_count": 1,
   "metadata": {},
   "outputs": [
    {
     "name": "stderr",
     "output_type": "stream",
     "text": [
      "Using TensorFlow backend.\n"
     ]
    }
   ],
   "source": [
    "from keras import backend as K\n",
    "from keras.layers import Activation\n",
    "from keras.layers import Input, Lambda, Dense, Dropout, Convolution2D, MaxPooling2D, Flatten,Conv2D\n",
    "from keras.models import Sequential, Model\n",
    "from keras.optimizers import RMSprop,Adam\n",
    "from keras.regularizers import l2\n",
    "import tensorflow as tf\n",
    "from tensorflow.keras.callbacks import EarlyStopping\n",
    "from tensorflow.python.keras.callbacks import TensorBoard\n"
   ]
  },
  {
   "cell_type": "code",
   "execution_count": 2,
   "metadata": {},
   "outputs": [],
   "source": [
    "import numpy as np\n",
    "import matplotlib.pyplot as plt\n",
    "\n",
    "from sklearn.model_selection import train_test_split\n",
    "from keras.utils import to_categorical\n",
    "\n",
    "import keras.losses\n",
    "import keras.metrics\n"
   ]
  },
  {
   "cell_type": "code",
   "execution_count": 3,
   "metadata": {},
   "outputs": [],
   "source": [
    "# make data \n",
    "n_sample = 1000\n",
    "\n",
    "X = np.random.randn(n_sample)\n",
    "y = 2*X + 5 + np.random.randn(n_sample)"
   ]
  },
  {
   "cell_type": "code",
   "execution_count": 4,
   "metadata": {},
   "outputs": [
    {
     "name": "stdout",
     "output_type": "stream",
     "text": [
      "(750,)\n"
     ]
    }
   ],
   "source": [
    "# make train , test data \n",
    "x_train, x_test, y_train, y_test = train_test_split(X, y, test_size=.25)\n",
    "\n",
    "print(x_train.shape)"
   ]
  },
  {
   "cell_type": "code",
   "execution_count": 3,
   "metadata": {},
   "outputs": [],
   "source": [
    "# build model \n",
    "def build_model():\n",
    "    model = Sequential()\n",
    "    model.add(Dense(1,input_shape=(1,),kernel_regularizer=l2(1e-4)))\n",
    "    return model"
   ]
  },
  {
   "cell_type": "code",
   "execution_count": 4,
   "metadata": {},
   "outputs": [
    {
     "name": "stdout",
     "output_type": "stream",
     "text": [
      "_________________________________________________________________\n",
      "Layer (type)                 Output Shape              Param #   \n",
      "=================================================================\n",
      "dense_1 (Dense)              (None, 1)                 2         \n",
      "=================================================================\n",
      "Total params: 2\n",
      "Trainable params: 2\n",
      "Non-trainable params: 0\n",
      "_________________________________________________________________\n"
     ]
    }
   ],
   "source": [
    "model = build_model()\n",
    "model.summary()"
   ]
  },
  {
   "cell_type": "code",
   "execution_count": 5,
   "metadata": {},
   "outputs": [],
   "source": [
    "import time\n",
    "from tensorflow.keras.losses import mean_squared_error\n",
    "tensorboard = TensorBoard(log_dir=\"graph/linear/\")\n",
    "rms = RMSprop(0.05)\n",
    "model.compile(loss=mean_squared_error\n",
    "              , optimizer=rms\n",
    "             ,metrics=[])"
   ]
  },
  {
   "cell_type": "code",
   "execution_count": 6,
   "metadata": {},
   "outputs": [
    {
     "ename": "NameError",
     "evalue": "name 'x_train' is not defined",
     "output_type": "error",
     "traceback": [
      "\u001b[1;31m---------------------------------------------------------------------------\u001b[0m",
      "\u001b[1;31mNameError\u001b[0m                                 Traceback (most recent call last)",
      "\u001b[1;32m<ipython-input-6-7fb9248ef574>\u001b[0m in \u001b[0;36m<module>\u001b[1;34m\u001b[0m\n\u001b[1;32m----> 1\u001b[1;33m his = model.fit(x_train,y_train,epochs=200,validation_split=0.25,batch_size=32\n\u001b[0m\u001b[0;32m      2\u001b[0m                ,callbacks=[tensorboard,EarlyStopping(monitor='val_loss',patience=50)])\n",
      "\u001b[1;31mNameError\u001b[0m: name 'x_train' is not defined"
     ]
    }
   ],
   "source": [
    "his = model.fit(x_train,y_train,epochs=200,validation_split=0.25,batch_size=32\n",
    "               ,callbacks=[tensorboard,EarlyStopping(monitor='val_loss',patience=50)])"
   ]
  },
  {
   "cell_type": "code",
   "execution_count": 10,
   "metadata": {},
   "outputs": [],
   "source": [
    "import numpy as np\n",
    "from matplotlib import pyplot as plt\n",
    "from matplotlib import animation\n",
    "\n",
    "def plot_loss(his,save_to_file):\n",
    "\n",
    "    loss  = np.array(his.history[\"loss\"])\n",
    "    val_loss = np.array(his.history[\"val_loss\"])\n",
    "    n  = len(loss)\n",
    "\n",
    "    # data = np.zeros(2*n)\n",
    "    # data[::2] = loss\n",
    "    # data[1::2] = val_loss\n",
    "\n",
    "    idx = np.arange(n)\n",
    "    # iters = np.zeros(2*n)\n",
    "    # iters[::2] = idx\n",
    "    # iters[1::2] = idx\n",
    "\n",
    "    fig = plt.figure()\n",
    "    ax = plt.axes(xlim=(0,n), ylim=(loss.min()-0.01,loss.max()+0.01))   \n",
    "    # line1, = ax.plot([], [],\"r-\", lw=2)\n",
    "    # line2, = ax.plot([], [],\"b-\", lw=2)\n",
    "    color = [\"r\",\"b\"]\n",
    "    label = [\"loss\",\"val_loss\"]\n",
    "    lines = [ax.plot([], [],color[i],label=label[i],lw=2)[0] for i in range(2)]\n",
    "\n",
    "    # initialization function: plot the background of each frame\n",
    "    def init():\n",
    "        lines[0].set_data([], [])\n",
    "        lines[1].set_data([], [])\n",
    "        return lines\n",
    "\n",
    "    # animation function.  This is called sequentially\n",
    "    def animate(i):\n",
    "        x = idx[:i]\n",
    "        y = loss[:i]\n",
    "        lines[0].set_data(x, y)\n",
    "        x = idx[:i]\n",
    "        y = val_loss[:i]\n",
    "        lines[1].set_data(x, y)\n",
    "        return lines\n",
    "\n",
    "    # call the animator.  blit=True means only re-draw the parts that have changed.\n",
    "    anim = animation.FuncAnimation(fig, animate, init_func=init,\n",
    "                                   frames=n, interval=20, blit=True)\n",
    "    \n",
    "    ax.set_xlabel(\"iters\")\n",
    "    ax.set_ylabel(\"loss\")\n",
    "    plt.legend()\n",
    "#     plt.legend()\n",
    "    anim.save(save_to_file, fps=15, extra_args=['-vcodec', 'libx264'])\n",
    "    plt.show()"
   ]
  },
  {
   "cell_type": "code",
   "execution_count": 11,
   "metadata": {},
   "outputs": [
    {
     "data": {
      "image/png": "[encoded data removed]",
      "text/plain": [
       "<Figure size 432x288 with 1 Axes>"
      ]
     },
     "metadata": {
      "needs_background": "light"
     },
     "output_type": "display_data"
    }
   ],
   "source": [
    "plot_loss(his,\"training_loss_linear.mp4\")"
   ]
  },
  {
   "cell_type": "code",
   "execution_count": 18,
   "metadata": {},
   "outputs": [
    {
     "name": "stdout",
     "output_type": "stream",
     "text": [
      "\r",
      "5/5 [==============================] - 0s 200us/step\n"
     ]
    },
    {
     "data": {
      "text/plain": [
       "[1.1522915363311768, 0.0]"
      ]
     },
     "execution_count": 18,
     "metadata": {},
     "output_type": "execute_result"
    }
   ],
   "source": [
    "model.evaluate(x_test[:5],y_test[:5])"
   ]
  },
  {
   "cell_type": "code",
   "execution_count": 13,
   "metadata": {},
   "outputs": [
    {
     "data": {
      "text/plain": [
       "[array([[1.9842569]], dtype=float32), array([4.8752403], dtype=float32)]"
      ]
     },
     "execution_count": 13,
     "metadata": {},
     "output_type": "execute_result"
    }
   ],
   "source": [
    "model.get_weights()"
   ]
  },
  {
   "cell_type": "code",
   "execution_count": 12,
   "metadata": {},
   "outputs": [
    {
     "data": {
      "text/plain": [
       "[<matplotlib.lines.Line2D at 0x2e45b0b8>]"
      ]
     },
     "execution_count": 12,
     "metadata": {},
     "output_type": "execute_result"
    },
    {
     "data": {
      "image/png": "[encoded data removed]",
      "text/plain": [
       "<Figure size 432x288 with 1 Axes>"
      ]
     },
     "metadata": {
      "needs_background": "light"
     },
     "output_type": "display_data"
    }
   ],
   "source": [
    "# plot HyperLane\n",
    "ax = plt.gca()\n",
    "\n",
    "xlim = [X.min(),X.max()]\n",
    "xx = np.linspace(xlim[0], xlim[1], 30)\n",
    "yy = model.predict(xx)\n",
    "\n",
    "ax.scatter(X,y)\n",
    "ax.plot(xx,yy,\"r-\",lw=4)"
   ]
  },
  {
   "cell_type": "code",
   "execution_count": null,
   "metadata": {},
   "outputs": [],
   "source": []
  }
 ],
 "metadata": {
  "kernelspec": {
   "display_name": "Python 3",
   "language": "python",
   "name": "python3"
  },
  "language_info": {
   "codemirror_mode": {
    "name": "ipython",
    "version": 3
   },
   "file_extension": ".py",
   "mimetype": "text/x-python",
   "name": "python",
   "nbconvert_exporter": "python",
   "pygments_lexer": "ipython3",
   "version": "3.6.4"
  }
 },
 "nbformat": 4,
 "nbformat_minor": 2
}
